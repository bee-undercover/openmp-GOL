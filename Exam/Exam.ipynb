{
  "cells": [
    {
      "cell_type": "markdown",
      "id": "a0152eb9-3d41-4aca-8d21-ed3ef9de77d3",
      "metadata": {
        "id": "a0152eb9-3d41-4aca-8d21-ed3ef9de77d3"
      },
      "source": [
        "# PHYS4003 Exam: Statistics Module\n",
        "\n",
        "\n",
        "**Student name: Claire Morley**\n",
        "\n",
        "\n",
        "## Academic Integrity\n",
        "\n",
        "- The exam is open book, and you may draw on textbooks, lecture notes and provided material.\n",
        "- You may not seek help from colleagues, friends, family, tutors or generative AI: that is considered contract cheating and is not permitted.\n",
        "- This is an individual assignment, and you must submit your own work.\n",
        "\n",
        "\n",
        "## Instructions for the exam\n",
        "- This statistics component has one question worth 50 points.\n",
        "- You have 10 minutes to start your setup and read the questions and 1 hour and 20 min to answer the questions and test run.\n",
        "- You can submit your completed notebook as a Jupyter notebook through Blackboard.\n",
        "- Some parts may require you to define new python variables/functions and test your work by running cells over and over or add new cells for yourself to check/test. This is fine. Just make sure that after you have tested what you return is a clean notebook that runs smoothly and only has the output that is requested in each question.\n",
        "- Some questions rely on your work on questions before them in this exam. If you make a mistake in answering the earlier question, mark deduction for that specific mistake will not propagate in later questions that rely on that. If you cannot answer a former section at all, but you can address the latter section that relies on that, you are encouraged to write code snippet that would address that latter part with making assumptions and using hypothetical variables/input.\n",
        "- Before submission, make sure that your notebook can be executed in a single run from beginning to end. If there are questions/parts that you have left blank or incomplete, which do not allow a complete computational run to be executed, comment them out and add an explanation about your partial work in the same cell (as a python comment block).\n",
        "- Given the computational nature of this exam component and its time-criticality, do not hesitate to raise your hand if you encounter any issues.\n",
        "- All the parts that require action (either in the code or text) are flagged by `<your turn>`."
      ]
    },
    {
      "cell_type": "code",
      "execution_count": null,
      "id": "22ce7068-b8e0-43b2-b7f7-e1356a35615e",
      "metadata": {
        "id": "22ce7068-b8e0-43b2-b7f7-e1356a35615e"
      },
      "outputs": [],
      "source": [
        "import numpy as np\n",
        "import scipy.stats as st\n",
        "import pandas as pd\n",
        "import seaborn as sns\n",
        "import pymc as pm\n",
        "import arviz as az\n",
        "import matplotlib.pylab as plt\n",
        "\n",
        "sns.set_style(\"darkgrid\")\n",
        "sns.set_context(\"talk\")\n",
        "sns.color_palette(\"hls\", 8)\n",
        "\n",
        "# Setting matplotlib fonts\n",
        "from matplotlib import rc\n",
        "font = {'family': 'serif',\n",
        "        'weight': 'bold',\n",
        "        'size': '14'}\n",
        "rc('font', **font)\n",
        "\n",
        "\n",
        "# Below is a set of colors for matplotlib that is colorblind-friendly\n",
        "# To use them in plotting commands, you can simply set \"color=colorset[N]\",\n",
        "# where N is an integer in [0,16), reflecting the index of the colors below.\n",
        "colorset = ['#000000','#00270C','#00443C','#005083',\n",
        "            '#034BCA','#483CFC','#9C2BFF','#EB24F4',\n",
        "            '#FF2DC2','#FF4986','#FF7356','#FFA443',\n",
        "            '#EBD155','#D3F187','#D7FFC8','#FFFFFF']"
      ]
    },
    {
      "cell_type": "markdown",
      "id": "9e57187d-bcf5-44fd-aec8-75b615c92ea4",
      "metadata": {
        "id": "9e57187d-bcf5-44fd-aec8-75b615c92ea4"
      },
      "source": [
        "## Data\n",
        "\n",
        "We have count data of number of X-ray binaries (specific type of binary stellar systems containing a black hole or neutron star accreting from a sun-like star) in a sample of star clusters. For each star cluster we have a measurement of its mass $\\hat{M}_i$ with some uncertainty on the mass $\\hat{\\sigma}_i$. We are trying to build a model based on the physical assumption that more massive star clusters should harbor higher number of X-ray binaries following a power-law.\n",
        "\n",
        "Our data consists of $k=100$ clusters. We have:\n",
        "\n",
        "Measured cluster masses (in units of $10^5$ solar mass)\n",
        "$$\\hat{M}_{\\rm{obs}} = [\\hat{M}_1,\\cdots,\\hat{M}_k] $$\n",
        "\n",
        "Estimated uncertainty on measured cluster masses\n",
        "$$\\hat{\\sigma}_{\\rm{obs}} = [\\hat{\\sigma}_1,\\cdots,\\hat{\\sigma}_k] $$\n",
        "\n",
        "Number of X-ray binaries in clusters (as count values)\n",
        "$$ \\hat{N}_{\\rm{XRB}} = [\\hat{N}_1,\\cdots,\\hat{N}_k] $$\n",
        "\n"
      ]
    },
    {
      "cell_type": "code",
      "execution_count": null,
      "id": "b78e1c74-7d10-4630-bd82-dbab855b1f8b",
      "metadata": {
        "id": "b78e1c74-7d10-4630-bd82-dbab855b1f8b"
      },
      "outputs": [],
      "source": [
        "DATA = pd.read_csv('https://www.dropbox.com/scl/fi/6i7dqlbcpy1p823ns1gio/exam_data.csv?rlkey=m3zd4v5m1tkp6rj0gsig4yh4w&st=23fxe80w&dl=1')\n",
        "DATA.head()"
      ]
    },
    {
      "cell_type": "markdown",
      "id": "7c4e97d5-1ebb-4f29-bed9-828b30607115",
      "metadata": {
        "id": "7c4e97d5-1ebb-4f29-bed9-828b30607115"
      },
      "source": [
        "### Q1: Visualize the data. [3 points]\n",
        "\n",
        "Using the methods we have covered in the class, visualize the data with $\\hat{N}_{\\rm{XRB}}$ as a function of $\\hat{M}_{\\rm{obs}}$."
      ]
    },
    {
      "cell_type": "code",
      "execution_count": null,
      "id": "814fd0af-c65d-4842-9403-5306c008d3c7",
      "metadata": {
        "id": "814fd0af-c65d-4842-9403-5306c008d3c7"
      },
      "outputs": [],
      "source": [
        "# <your turn>\n",
        "\n",
        "fig = plt.figure(figsize=(8, 6))\n",
        "ax = fig.add_subplot(1, 1, 1)\n",
        "# <your turn>\n",
        "\n",
        "\n",
        "\n",
        "\n",
        "# Plot cosmetics\n",
        "ax.set_xlabel(r'Cluster mass [10$^5$ M$_\\odot$]')\n",
        "ax.set_ylabel(r'N$_{XRB}$');"
      ]
    },
    {
      "cell_type": "markdown",
      "id": "4f6b9863-b581-4409-a818-4e4c10b17d55",
      "metadata": {
        "id": "4f6b9863-b581-4409-a818-4e4c10b17d55"
      },
      "source": [
        "\n",
        "## Our model\n",
        "\n",
        "We propose that the expected number of X-ray binaries ($N_{\\rm{XRB}}$) follows a Poisson distribution:\n",
        "\n",
        "$$ N_{\\rm{XRB}} \\sim \\textrm{Poisson}(\\mu_{\\rm{XRB}}) $$\n",
        "\n",
        "where the Poisson \"rate\" $\\mu_{\\rm{XRB}}$ is a function of cluster mass $M$:\n",
        "\n",
        "$$ \\mu_{\\rm{XRB}} = a M^b $$\n",
        "\n",
        "and we wish to infer about $a$ and $b$. Let's assume that our physical understanding of cluster dynamics suggests:\n",
        "\n",
        "$$ a \\sim \\textrm{Uniform}(\\min=0,\\max=5) $$\n",
        "$$ b \\sim \\textrm{Uniform}(\\min=0,\\max=a) $$\n",
        "\n",
        "However, we do not know the true values of $M$ for our clusters. We have measurements with uncertainties. So we decide to model the mass as:\n",
        "\n",
        "$$ M \\sim \\textrm{TruncNorm}(\\mu_M = \\hat{M}_{obs}, \\sigma=\\sigma_M, \\min=0) $$\n",
        "\n",
        "where \"$\\textrm{TruncNorm}$\" corresponds to a truncated normal distributions that is truncated at $\\min=0$ to ensure non-negative values for mass.\n",
        "\n",
        "Furthermore, assume that we are concerned that our uncertainties on the **measured** cluster masses $\\hat{\\sigma}_{obs}$ might be underestimated by a specific amount $s$ (the same amount for all clusters) that we want to infer. So we define $\\sigma_M$ as:\n",
        "\n",
        "\n",
        "$$ \\sigma_M=\\sqrt{\\hat{\\sigma}_{obs}^2+s^2}$$\n",
        "\n",
        "and we define the prior on $s$ as:\n",
        "$$ s \\sim \\textrm{Uniform}(\\min=0,\\max=2) $$\n",
        "\n",
        "\n",
        "### Q2: Build the model. [8 points]\n",
        "\n",
        "Build a PyMC model with the variables above and visualize its plate notation."
      ]
    },
    {
      "cell_type": "code",
      "execution_count": null,
      "id": "163a72cd-d122-47dd-b8f3-4403d0559a82",
      "metadata": {
        "id": "163a72cd-d122-47dd-b8f3-4403d0559a82"
      },
      "outputs": [],
      "source": [
        "# <your turn>\n",
        "\n",
        "with pm.Model() as XRB_model:\n",
        "    ## Define your model here\n",
        "\n",
        "\n",
        "\n",
        "# your plate notation here\n",
        "\n",
        "\n"
      ]
    },
    {
      "cell_type": "markdown",
      "id": "d3bf957c-800e-450b-8078-4cd326cc04f7",
      "metadata": {
        "id": "d3bf957c-800e-450b-8078-4cd326cc04f7"
      },
      "source": [
        "## Prior checking\n",
        "\n",
        "### Q3: Perform prior sampling. [4 points]\n",
        "\n",
        "Perform the following steps (these can be done in a single cell or in a set of consecutive cells):\n",
        "- a: Perform prior and prior-predictive sampling from the model with 2000 draws.\n",
        "- b: Visualize the joint and marginal distributions of priors for $a,b,s$.\n",
        "- c: Interpret your prior samples as visualized in part b in the context of how we have defined our priors. Are there any structures in the joint and marginal distributions? are they expected?"
      ]
    },
    {
      "cell_type": "code",
      "execution_count": null,
      "id": "353a90c0-6e81-4c4d-96cd-401478488633",
      "metadata": {
        "id": "353a90c0-6e81-4c4d-96cd-401478488633"
      },
      "outputs": [],
      "source": [
        "# <your turn>\n",
        "# a:\n",
        "\n",
        "with XRB_model:\n",
        "    XRB_model_sample_prior_predictive = a\n",
        "\n"
      ]
    },
    {
      "cell_type": "code",
      "execution_count": null,
      "id": "0b90d4f6-fb97-4d1e-ad25-1c63e5628fe9",
      "metadata": {
        "id": "0b90d4f6-fb97-4d1e-ad25-1c63e5628fe9"
      },
      "outputs": [],
      "source": [
        "# <your turn>\n",
        "# b:\n",
        "\n"
      ]
    },
    {
      "cell_type": "markdown",
      "id": "55d438c8-0315-4037-a6ba-4885db22bd1d",
      "metadata": {
        "id": "55d438c8-0315-4037-a6ba-4885db22bd1d"
      },
      "source": [
        "`<your turn>`\n",
        "\n",
        "*part c: Write your answer for part c in this text block*\n",
        "\n"
      ]
    },
    {
      "cell_type": "markdown",
      "id": "36d75dc8-2e4b-4b04-97c3-1a8b2935e6f8",
      "metadata": {
        "id": "36d75dc8-2e4b-4b04-97c3-1a8b2935e6f8"
      },
      "source": [
        "## Posterior sampling\n",
        "\n",
        "### Q4: Perform sampling from the posterior distribution. [6 points]\n",
        "\n",
        "- a: Perform sampling from the posterior, with sufficient number of warm-up draws and post-warm up samples (you can discard the warm-up sample).\n",
        "- b: Demonstrate convergence of your sampling via appropriate metrics and visualizations (Restrict your inspection to $a,b,s$)."
      ]
    },
    {
      "cell_type": "code",
      "execution_count": null,
      "id": "beb4b786-2336-45f2-839b-cb9c817fccb5",
      "metadata": {
        "id": "beb4b786-2336-45f2-839b-cb9c817fccb5"
      },
      "outputs": [],
      "source": [
        "# <your turn>\n",
        "# a:\n",
        "# You can add aditional cells if needed.\n",
        "\n",
        "with XRB_model:\n",
        "    XRB_model_mcmc_sample =\n",
        "\n"
      ]
    },
    {
      "cell_type": "markdown",
      "id": "91627f49-bce7-461d-9b7f-b61edd4de030",
      "metadata": {
        "id": "91627f49-bce7-461d-9b7f-b61edd4de030"
      },
      "source": [
        "### Q5: visualize and comment on posterior joint distributions for $a,b,s$. [5 points]"
      ]
    },
    {
      "cell_type": "code",
      "execution_count": null,
      "id": "b4e48054-d6d8-4845-afdf-ecb721955d4e",
      "metadata": {
        "id": "b4e48054-d6d8-4845-afdf-ecb721955d4e"
      },
      "outputs": [],
      "source": [
        "# <your turn>\n"
      ]
    },
    {
      "cell_type": "markdown",
      "id": "e22246bd-5b83-41f3-a288-dcde5fc30419",
      "metadata": {
        "id": "e22246bd-5b83-41f3-a288-dcde5fc30419"
      },
      "source": [
        "`<your turn>`\n",
        "\n",
        "*Comment on the correlations in cell. Think of corrections in the context of our mathematical model.*\n",
        "\n"
      ]
    },
    {
      "cell_type": "markdown",
      "id": "4ecb0b60-1622-41f3-b173-364609ff3cb4",
      "metadata": {
        "id": "4ecb0b60-1622-41f3-b173-364609ff3cb4"
      },
      "source": [
        "## Posterior predictions\n",
        "\n",
        "### Q6: Perform posterior-predictive sampling for $N_{XRB}$ and plot the posterior-predictive sample's 95% HDI on top of your data for $N_{XRB}$ against cluster mass. [4 points]"
      ]
    },
    {
      "cell_type": "code",
      "execution_count": null,
      "id": "2f30736a-abae-4f1c-bf14-43fd4cb04cc2",
      "metadata": {
        "id": "2f30736a-abae-4f1c-bf14-43fd4cb04cc2"
      },
      "outputs": [],
      "source": [
        "# <your turn>\n",
        "## Sampling\n"
      ]
    },
    {
      "cell_type": "code",
      "execution_count": null,
      "id": "d7607efa-e90b-4e16-8214-b6eb73ed33ae",
      "metadata": {
        "id": "d7607efa-e90b-4e16-8214-b6eb73ed33ae"
      },
      "outputs": [],
      "source": [
        "# <your turn>\n",
        "## plotting\n",
        "\n"
      ]
    },
    {
      "cell_type": "markdown",
      "id": "fe27a1b5-0629-4bf8-8fa0-1f36abada189",
      "metadata": {
        "id": "fe27a1b5-0629-4bf8-8fa0-1f36abada189"
      },
      "source": [
        "### Q7: Comment on whether you think the model describes the data in a reasonable manner. [6 points]"
      ]
    },
    {
      "cell_type": "markdown",
      "id": "e7e17ad7-0910-4527-b3a1-c70df4e0c9b3",
      "metadata": {
        "id": "e7e17ad7-0910-4527-b3a1-c70df4e0c9b3"
      },
      "source": [
        "`<your turn>`\n",
        "\n",
        "*Comment on the model compared to data.*\n",
        "\n"
      ]
    },
    {
      "cell_type": "markdown",
      "id": "b4e83d50-19c6-4ce4-874a-c4eb33110bba",
      "metadata": {
        "id": "b4e83d50-19c6-4ce4-874a-c4eb33110bba"
      },
      "source": [
        "### Q8: Assess influence of priors on posteriors for $a,b,c$ and comment whether priors on any parameter has been influential and in what way. [6 points]"
      ]
    },
    {
      "cell_type": "code",
      "execution_count": null,
      "id": "fa409829-d9dd-4ed7-ada9-511d2e170833",
      "metadata": {
        "id": "fa409829-d9dd-4ed7-ada9-511d2e170833"
      },
      "outputs": [],
      "source": [
        "# Run this cell once without modification to combine the inference data sets\n",
        "# If you are using the contingency dataset, add \"contingency.\" before the idata names (e.g., contingency.XRB_model_mcmc_sample)\n",
        "\n",
        "XRB_model_mcmc_sample.extend(XRB_model_sample_prior_predictive)"
      ]
    },
    {
      "cell_type": "code",
      "execution_count": null,
      "id": "7094f745-6300-4a93-970f-a76e90228b01",
      "metadata": {
        "id": "7094f745-6300-4a93-970f-a76e90228b01"
      },
      "outputs": [],
      "source": [
        "# <your turn>\n",
        "\n"
      ]
    },
    {
      "cell_type": "markdown",
      "id": "d8df03a1-31cc-44e5-8615-651e4b29d2e1",
      "metadata": {
        "id": "d8df03a1-31cc-44e5-8615-651e4b29d2e1"
      },
      "source": [
        "`<your turn>`\n",
        "\n",
        "*Influence of priors on posteriors*\n",
        "\n"
      ]
    },
    {
      "cell_type": "markdown",
      "id": "5b4fef61-39b0-4d31-8c16-44d724355862",
      "metadata": {
        "id": "5b4fef61-39b0-4d31-8c16-44d724355862"
      },
      "source": [
        "### Point and interval estimation\n",
        "\n",
        "#### Q9: Visualize marginal posterior samples of $a,b,s$ and report reasonable point and interval estimations for all three. [4 points]"
      ]
    },
    {
      "cell_type": "code",
      "execution_count": null,
      "id": "362a4011-e7f7-433a-89ed-51fdbce1e17b",
      "metadata": {
        "id": "362a4011-e7f7-433a-89ed-51fdbce1e17b"
      },
      "outputs": [],
      "source": [
        "# <your turn>\n",
        "\n"
      ]
    },
    {
      "cell_type": "markdown",
      "id": "1cd38893-d28a-4be8-9a9d-4ba521eac115",
      "metadata": {
        "id": "1cd38893-d28a-4be8-9a9d-4ba521eac115"
      },
      "source": [
        "### Interpreting the results\n",
        "\n",
        "#### Q10: Interpret the posterior distribution of $s$. Does our model suggest that the uncertainty on measured cluster mass values are underestimated? Provide evidence and/or quantify constraint. [4 points]"
      ]
    },
    {
      "cell_type": "markdown",
      "id": "1249b50a-5f26-4a17-bcb4-15a8e825842c",
      "metadata": {
        "id": "1249b50a-5f26-4a17-bcb4-15a8e825842c"
      },
      "source": [
        "`<your turn>`\n",
        "\n"
      ]
    },
    {
      "cell_type": "markdown",
      "id": "38a65274-07b0-4385-9f03-c89e5fd7f104",
      "metadata": {
        "id": "38a65274-07b0-4385-9f03-c89e5fd7f104"
      },
      "source": [
        "**End of questions**\n",
        "\n",
        "Make sure that you:\n",
        "\n",
        "- [x] Typed in your name in the first cell of the Notebook.\n",
        "- [x] Saved the Notebook after your modifications.\n",
        "- [x] Cleaned the Notebook: if you have added cells/work to test items that are not requested, remove them.\n",
        "- [x] Tested the Notebook and that the notebook can be executed in a single sequential run.\n",
        "- [x] Make sure that every cell that should have an output, has an output displayed.\n",
        "- [x] If you're using Binder, save and download the completed Notebook.\n",
        "- [x] Upload the finished notebook to Blackboard (as Jupyter Notebook)\n",
        "\n",
        "\n",
        "**End of Exam**"
      ]
    }
  ],
  "metadata": {
    "kernelspec": {
      "display_name": "pymc5",
      "language": "python",
      "name": "pymc5"
    },
    "language_info": {
      "codemirror_mode": {
        "name": "ipython",
        "version": 3
      },
      "file_extension": ".py",
      "mimetype": "text/x-python",
      "name": "python",
      "nbconvert_exporter": "python",
      "pygments_lexer": "ipython3",
      "version": "3.11.5"
    },
    "colab": {
      "provenance": []
    }
  },
  "nbformat": 4,
  "nbformat_minor": 5
}